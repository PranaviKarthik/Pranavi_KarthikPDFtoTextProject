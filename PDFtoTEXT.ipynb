{
 "cells": [
  {
   "cell_type": "code",
   "execution_count": 41,
   "id": "b394d9cd",
   "metadata": {},
   "outputs": [
    {
     "name": "stdout",
     "output_type": "stream",
     "text": [
      " A Simple PDF File \n",
      " This is a small demonstration .pdf file - \n",
      " just for use in the Virtual Mechanics tutorials. More text. And more \n",
      " text. And more text. And more text. And more text. \n",
      " And more text. And more text. And more text. And more text. And more \n",
      " text. And more text. Boring, zzzzz. And more text. And more text. And \n",
      " more text. And more text. And more text. And more text. And more text. \n",
      " And more text. And more text. \n",
      " And more text. And more text. And more text. And more text. And more \n",
      " text. And more text. And more text. Even more. Continued on page 2 ...\n",
      " Simple PDF File 2 \n",
      " ...continued from page 1. Yet more text. And more text. And more text. \n",
      " And more text. And more text. And more text. And more text. And more \n",
      " text. Oh, how boring typing this stuff. But not as boring as watching \n",
      " paint dry. And more text. And more text. And more text. And more text. \n",
      " Boring.  More, a little more text. The end, and just as well. \n",
      "\n"
     ]
    }
   ],
   "source": [
    "import fitz \n",
    "doc = fitz.open('Sample.pdf') \n",
    "text = \"\" \n",
    "for page in doc: \n",
    "    text+=page.get_text() \n",
    "print(text) \n"
   ]
  },
  {
   "cell_type": "code",
   "execution_count": 42,
   "id": "521b065f",
   "metadata": {},
   "outputs": [
    {
     "name": "stdout",
     "output_type": "stream",
     "text": [
      "{\n",
      "  \"And\": 38,\n",
      "  \"More\": 42\n",
      "}\n"
     ]
    }
   ],
   "source": [
    "import fitz\n",
    "import json\n",
    "\n",
    "# Step 1: Open the PDF file and extract text from each page\n",
    "doc = fitz.open('Sample.pdf')\n",
    "text = \"\"\n",
    "for page in doc:\n",
    "    text += page.get_text()\n",
    "\n",
    "# Step 2: Count the occurrences of 'And' and 'More' in the text\n",
    "and_count = text.lower().count('and')\n",
    "more_count = text.lower().count('more')\n",
    "\n",
    "# Step 3: Create a dictionary with the counts\n",
    "result_dict = {'And': and_count, 'More': more_count}\n",
    "\n",
    "# Step 4: Convert the dictionary to JSON format\n",
    "result_json = json.dumps(result_dict, indent=2)\n",
    "\n",
    "# Step 5: Print the JSON representation of the counts\n",
    "print(result_json)\n"
   ]
  },
  {
   "cell_type": "code",
   "execution_count": null,
   "id": "a90a6966",
   "metadata": {},
   "outputs": [],
   "source": []
  }
 ],
 "metadata": {
  "kernelspec": {
   "display_name": "Python 3 (ipykernel)",
   "language": "python",
   "name": "python3"
  },
  "language_info": {
   "codemirror_mode": {
    "name": "ipython",
    "version": 3
   },
   "file_extension": ".py",
   "mimetype": "text/x-python",
   "name": "python",
   "nbconvert_exporter": "python",
   "pygments_lexer": "ipython3",
   "version": "3.10.9"
  }
 },
 "nbformat": 4,
 "nbformat_minor": 5
}
